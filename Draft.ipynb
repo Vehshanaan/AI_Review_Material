{
 "cells": [
  {
   "cell_type": "code",
   "execution_count": 34,
   "metadata": {},
   "outputs": [],
   "source": [
    "import math\n",
    "import numpy as np\n",
    "\n",
    "'''\n",
    "description: 计算一个feature值对给定分布的隶属度的函数\n",
    "return {隶属度}\n",
    "'''\n",
    "def normal_distribution(feature_value, mean, sd):\n",
    "    return math.log(1/sd/math.sqrt(2*math.pi)*math.exp(-0.5*((feature_value-mean)/sd)**2))\n"
   ]
  },
  {
   "cell_type": "code",
   "execution_count": 42,
   "metadata": {},
   "outputs": [],
   "source": [
    "\n",
    "density1 = [1.52, 1.46, 1.68, 1.47, 1.53, 1.6]\n",
    "hardness1 = [1.95, 1.76, 2.11, 2.08, 1.94, 1.97]\n",
    "\n",
    "mean1d = np.mean(density1)\n",
    "mean1h = np.mean(hardness1)\n",
    "sd1d = np.std(density1)\n",
    "sd1h = np.std(hardness1)\n",
    "\n",
    "density2 = [2.04, 1.78, 1.67, 1.82, 1.65]\n",
    "hardness2 = [2.24, 2.69, 2.66, 2.43, 2.9]\n",
    "mean2d = np.mean(density2)\n",
    "mean2h = np.mean(hardness2)\n",
    "sd2d = np.std(density2)\n",
    "sd2h = np.std(hardness2)\n",
    "\n",
    "density3 = [2.15, 1.55, 2.92, 1.23]\n",
    "hardness3 = [1.04, 1.08, 0.84, 0.85]\n",
    "mean3d = np.mean(density3)\n",
    "mean3h = np.mean(hardness3)\n",
    "sd3d = np.std(density3)\n",
    "sd3h = np.std(hardness3)\n",
    "\n"
   ]
  },
  {
   "cell_type": "code",
   "execution_count": 36,
   "metadata": {},
   "outputs": [],
   "source": [
    "P1 = 6/15\n",
    "P2 = 5/15\n",
    "P3 = 4/15"
   ]
  },
  {
   "cell_type": "code",
   "execution_count": 37,
   "metadata": {},
   "outputs": [
    {
     "name": "stdout",
     "output_type": "stream",
     "text": [
      "-16.587871183285813\n",
      "-2.8587972246847793\n",
      "-56.442947368638386\n"
     ]
    }
   ],
   "source": [
    "x_density = 2.0\n",
    "x_hardness = 2.1\n",
    "\n",
    "\n",
    "L1 = math.log(P1)+normal_distribution(x_density, mean1d, sd1d) + \\\n",
    "    normal_distribution(x_hardness, mean1h, sd1h)\n",
    "L2 = math.log(P2)+normal_distribution(x_density, mean2d, sd2d) + \\\n",
    "    normal_distribution(x_hardness, mean2h, sd2h)\n",
    "L3 = math.log(P3)+normal_distribution(x_density, mean3d, sd3d) + \\\n",
    "    normal_distribution(x_hardness, mean3h, sd3h)\n",
    "\n",
    "print(L1)\n",
    "print(L2)\n",
    "print(L3)\n"
   ]
  },
  {
   "cell_type": "code",
   "execution_count": 2,
   "metadata": {},
   "outputs": [
    {
     "name": "stdout",
     "output_type": "stream",
     "text": [
      "-18.0\n"
     ]
    }
   ],
   "source": [
    "result = 0+0.9*(-100*0.1-100*0.1+0.8*0)\n",
    "print(result)"
   ]
  },
  {
   "cell_type": "code",
   "execution_count": null,
   "metadata": {},
   "outputs": [],
   "source": []
  }
 ],
 "metadata": {
  "kernelspec": {
   "display_name": "base",
   "language": "python",
   "name": "python3"
  },
  "language_info": {
   "codemirror_mode": {
    "name": "ipython",
    "version": 3
   },
   "file_extension": ".py",
   "mimetype": "text/x-python",
   "name": "python",
   "nbconvert_exporter": "python",
   "pygments_lexer": "ipython3",
   "version": "3.10.9"
  },
  "orig_nbformat": 4
 },
 "nbformat": 4,
 "nbformat_minor": 2
}
