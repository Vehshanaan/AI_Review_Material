{
 "cells": [
  {
   "attachments": {
    "image.png": {
     "image/png": "[encoded data removed]"
    }
   },
   "cell_type": "markdown",
   "metadata": {},
   "source": [
    "# 1. 对于以下gridworld:\n",
    "![image.png](attachment:image.png)\n",
    "\n",
    "格中给出了奖励的值\n",
    "\n",
    "agent90%几率往想去的地方去，10%掉头\n",
    "\n",
    "折扣参数0.5\n",
    "\n",
    "从左到右三个格子分别标为123\n",
    "\n",
    "假设起始时所有格子的Ultility都被设为其奖励值，用价值迭代算一轮。\n",
    "\n",
    " - 一次迭代后的结果?\n",
    " - 在各个格子里agent要采取的行动？\n",
    " - 收敛后，如果从1开始，那agent会试着去往终点吗？\n",
    " - 假设2的代价是-1，重新来过。\n",
    "   - 一次得到后的结果？\n",
    "   - 各个格子里的行动？\n",
    "   - 收敛后会不会往终点去？"
   ]
  },
  {
   "attachments": {},
   "cell_type": "markdown",
   "metadata": {},
   "source": [
    "解：\n",
    "\n",
    "先写一个计算器"
   ]
  },
  {
   "cell_type": "code",
   "execution_count": 13,
   "metadata": {},
   "outputs": [
    {
     "name": "stdout",
     "output_type": "stream",
     "text": [
      "2.6675\n"
     ]
    }
   ],
   "source": [
    "R = 1\n",
    "\n",
    "discount = 0.5\n",
    "\n",
    "result = R+discount*(0.9*3.55+0.1*1.4)\n",
    "\n",
    "print(result)"
   ]
  },
  {
   "attachments": {},
   "cell_type": "markdown",
   "metadata": {},
   "source": [
    "第一组：中间R=-5的情况：\n",
    "|1|2|3|\n",
    "|:-:|:-:|:-:|\n",
    "|  1.2   |  -0.45   |10(G)|\n",
    "\n",
    "2：试着右\n",
    "1：试着左\n",
    "\n",
    "不会往终点去，一轮之后起点的U已经比中间大了。第二轮起点也不会出发的\n",
    "\n"
   ]
  },
  {
   "attachments": {},
   "cell_type": "markdown",
   "metadata": {},
   "source": [
    "第二组：中间 = -1的情况\n",
    "\n",
    "|1|2|3|\n",
    "|:-:|:-:|:-:|\n",
    "|  1.4   |  3.55   |10(G)|\n",
    "\n",
    "可以往终点去，第一轮后起点的U不如中间大，会试着往中间去"
   ]
  },
  {
   "attachments": {
    "image.png": {
     "image/png": "[encoded data removed]"
    }
   },
   "cell_type": "markdown",
   "metadata": {},
   "source": [
    "# 2.\n",
    "对于以下格子世界：\n",
    "\n",
    "![image.png](attachment:image.png)\n",
    "\n",
    "T节点碰到就会游戏结束。G节点是目标，碰到也会结束\n",
    "\n",
    "agent去到想去的地方的几率是80，往两侧各是10\n",
    "\n",
    "discount 0.1\n",
    "\n",
    "左下叫（1，1），右上叫（3，2）\n",
    "\n",
    "假设所有非终点格子的U都初始化为R，迭两代。算\n",
    "\n",
    "再假设终点的R设为1，迭一代，算。"
   ]
  },
  {
   "cell_type": "code",
   "execution_count": 32,
   "metadata": {},
   "outputs": [
    {
     "name": "stdout",
     "output_type": "stream",
     "text": [
      "-0.0044\n"
     ]
    }
   ],
   "source": [
    "R = 0\n",
    "discount = 0.1\n",
    "\n",
    "result = R+discount*(0.8*(0.07)+0.1*0+0.1*(-1))\n",
    "\n",
    "print(result)\n"
   ]
  },
  {
   "attachments": {},
   "cell_type": "markdown",
   "metadata": {},
   "source": [
    "解：\n",
    "\n",
    "第一组：\n",
    "\n",
    "第一轮\n",
    "\n",
    "|  -1（T）   |  0.79（R）   |10(G)|\n",
    "|:-:|:-:|:-:|\n",
    "|0(R)           | 0 (D)      |-1(T)|\n",
    "\n",
    "第二轮\n",
    "\n",
    "|  -1（T）   |  0.79（R）   |10(G)|\n",
    "|:-:|:-:|:-:|\n",
    "|0.00424(R)           |0.0532(U)      |-1(T)|"
   ]
  },
  {
   "attachments": {},
   "cell_type": "markdown",
   "metadata": {},
   "source": [
    "第二组\n",
    "\n",
    "\n",
    "|  -1（T）   |  0.07（R）    |1(G)|\n",
    "|:-:|:-:|:-:|\n",
    "|0(R)           | 0 (D)         |-1(T)|\n",
    "\n",
    "\n"
   ]
  },
  {
   "attachments": {},
   "cell_type": "markdown",
   "metadata": {},
   "source": [
    "# 3. \n",
    "两个串 \n",
    "A=0101101\n",
    "B=1011000\n",
    "\n",
    "single pint crossover,k=3,A'留着A前，B'留着B前\n",
    "\n",
    "swap mutation A’ k=2,5\n",
    "swap mutation B‘ k=1,2\n",
    "\n",
    "给出A，B的十进制值\n"
   ]
  },
  {
   "attachments": {},
   "cell_type": "markdown",
   "metadata": {},
   "source": [
    "解：\n",
    "\n",
    "单点结果：\n",
    "\n",
    "A' = 010**1000**\n",
    "B’ = **101**1101\n",
    "\n",
    "swap A‘：01**0**10**0**0 -> 0101000\n",
    "\n",
    "swap B': 1011101 -> 1101101\n"
   ]
  },
  {
   "cell_type": "code",
   "execution_count": 46,
   "metadata": {},
   "outputs": [
    {
     "name": "stdout",
     "output_type": "stream",
     "text": [
      "40\n",
      "109\n"
     ]
    }
   ],
   "source": [
    "A = '0101000'\n",
    "B = '1101101'\n",
    "\n",
    "print(int(A,2))\n",
    "print(int(B,2))"
   ]
  },
  {
   "attachments": {
    "image.png": {
     "image/png": "[encoded data removed]"
    }
   },
   "cell_type": "markdown",
   "metadata": {},
   "source": [
    "# 4.\n",
    "\n",
    "对于以下的人口，计算实用度，上大转盘，按DACBE顺序安放，0，53抽着谁？\n",
    "![image.png](attachment:image.png)"
   ]
  },
  {
   "cell_type": "code",
   "execution_count": 44,
   "metadata": {},
   "outputs": [
    {
     "name": "stdout",
     "output_type": "stream",
     "text": [
      "0.6510810199953652\n"
     ]
    }
   ],
   "source": [
    "import numpy as np\n",
    "population =[7.55,5.72,7.26,0.13,2.22]\n",
    "\n",
    "def fitness(x):\n",
    "    return -0.5*x**2+3*x+8\n",
    "\n",
    "res = []\n",
    "\n",
    "for _ in population:\n",
    "    res.append(fitness(_))\n",
    "\n",
    "res = np.array(res)\n",
    "res/=sum(res)\n",
    "print(res[0]+res[1]+res[2]+res[3])\n"
   ]
  }
 ],
 "metadata": {
  "kernelspec": {
   "display_name": "base",
   "language": "python",
   "name": "python3"
  },
  "language_info": {
   "codemirror_mode": {
    "name": "ipython",
    "version": 3
   },
   "file_extension": ".py",
   "mimetype": "text/x-python",
   "name": "python",
   "nbconvert_exporter": "python",
   "pygments_lexer": "ipython3",
   "version": "3.10.9"
  },
  "orig_nbformat": 4
 },
 "nbformat": 4,
 "nbformat_minor": 2
}
